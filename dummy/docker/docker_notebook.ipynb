{
 "cells": [
  {
   "cell_type": "code",
   "execution_count": 1,
   "metadata": {
    "collapsed": true,
    "deletable": true,
    "editable": true
   },
   "outputs": [],
   "source": [
    "import os\n",
    "import docker"
   ]
  },
  {
   "cell_type": "code",
   "execution_count": 2,
   "metadata": {
    "collapsed": true
   },
   "outputs": [],
   "source": [
    "local_docker_client = docker.DockerClient(base_url='unix://var/run/docker.sock')"
   ]
  },
  {
   "cell_type": "code",
   "execution_count": 3,
   "metadata": {
    "collapsed": true
   },
   "outputs": [],
   "source": [
    "dockerhub_creds = local_docker_client.login('ruckusist', 'domore420')"
   ]
  },
  {
   "cell_type": "code",
   "execution_count": 4,
   "metadata": {
    "collapsed": true
   },
   "outputs": [],
   "source": [
    "local_containers = local_docker_client.containers"
   ]
  },
  {
   "cell_type": "code",
   "execution_count": 8,
   "metadata": {
    "collapsed": false
   },
   "outputs": [],
   "source": [
    "for i in local_containers.list():\n",
    "    print(i)"
   ]
  },
  {
   "cell_type": "code",
   "execution_count": 19,
   "metadata": {
    "collapsed": false
   },
   "outputs": [
    {
     "name": "stdout",
     "output_type": "stream",
     "text": [
      "<Image: 'tensorflow/tensorflow:latest-gpu'>\n"
     ]
    }
   ],
   "source": [
    "# test image!\n",
    "test_image = \"tensorflow/tensorflow:latest-gpu\"\n",
    "imgs = local_docker_client.images\n",
    "imgs.pull(test_image)\n",
    "for i in imgs.list():\n",
    "    print(i)"
   ]
  },
  {
   "cell_type": "code",
   "execution_count": 33,
   "metadata": {
    "collapsed": false
   },
   "outputs": [
    {
     "name": "stdout",
     "output_type": "stream",
     "text": [
      "<Image: 'tensorflow/tensorflow:latest-gpu'> <requests.packages.urllib3.response.HTTPResponse object at 0x7f6c157f7908>\n"
     ]
    }
   ],
   "source": [
    "tf_image = imgs.get(test_image)\n",
    "resp = tf_image.save()\n",
    "print(tf_image, resp)"
   ]
  },
  {
   "cell_type": "code",
   "execution_count": 47,
   "metadata": {
    "collapsed": false,
    "scrolled": true
   },
   "outputs": [
    {
     "name": "stdout",
     "output_type": "stream",
     "text": [
      "\n",
      "Id :\n",
      "\tsha256:82e9178974c36fb51c86a140e69f08465935bd6d605be32f9919c0a674ca2ec5\n",
      "\n",
      "RepoTags :\n",
      "\t['tensorflow/tensorflow:latest-gpu']\n",
      "\n",
      "RepoDigests :\n",
      "\t['tensorflow/tensorflow@sha256:e78b5109d894b2a6de4331d715adfbc67ab64fe0cc4c64cea3b6fe62df3c502c']\n",
      "\n",
      "Parent :\n",
      "\t\n",
      "\n",
      "Comment :\n",
      "\t\n",
      "\n",
      "Created :\n",
      "\t2017-03-23T18:37:53.98162689Z\n",
      "\n",
      "Container :\n",
      "\teaf28e5c17a1b84d618df17cc0d0cd11fa4cdebe4275282031b8c8f2cfb81f6a\n",
      "\n",
      "ContainerConfig :\n",
      "\t{'Hostname': 'bbdeb8fab105', 'Domainname': '', 'User': '', 'AttachStdin': False, 'AttachStdout': False, 'AttachStderr': False, 'ExposedPorts': {'6006/tcp': {}, '8888/tcp': {}}, 'Tty': False, 'OpenStdin': False, 'StdinOnce': False, 'Env': ['PATH=/usr/local/nvidia/bin:/usr/local/cuda/bin:/usr/local/sbin:/usr/local/bin:/usr/sbin:/usr/bin:/sbin:/bin', 'CUDA_VERSION=8.0.61', 'CUDA_PKG_VERSION=8-0=8.0.61-1', 'LD_LIBRARY_PATH=/usr/local/cuda/extras/CUPTI/lib64:/usr/local/nvidia/lib:/usr/local/nvidia/lib64', 'LIBRARY_PATH=/usr/local/cuda/lib64/stubs:', 'CUDNN_VERSION=5.1.10'], 'Cmd': ['/bin/sh', '-c', '#(nop) ', 'CMD [\"/run_jupyter.sh\"]'], 'ArgsEscaped': True, 'Image': 'sha256:1f09329e0adfe4afdc3ecc669ac27d4b034a9288690eacd857035af485bb34cd', 'Volumes': None, 'WorkingDir': '/notebooks', 'Entrypoint': None, 'OnBuild': [], 'Labels': {'com.nvidia.build.id': '11398804', 'com.nvidia.build.ref': 'aad8623671f844cc69a09aa38fa8c733a251aa9f', 'com.nvidia.cuda.version': '8.0.61', 'com.nvidia.cudnn.version': '5.1.10', 'com.nvidia.volumes.needed': 'nvidia_driver', 'maintainer': 'NVIDIA CORPORATION <cudatools@nvidia.com>'}}\n",
      "\n",
      "DockerVersion :\n",
      "\t1.12.2\n",
      "\n",
      "Author :\n",
      "\tCraig Citro <craigcitro@google.com>\n",
      "\n",
      "Config :\n",
      "\t{'Hostname': 'bbdeb8fab105', 'Domainname': '', 'User': '', 'AttachStdin': False, 'AttachStdout': False, 'AttachStderr': False, 'ExposedPorts': {'6006/tcp': {}, '8888/tcp': {}}, 'Tty': False, 'OpenStdin': False, 'StdinOnce': False, 'Env': ['PATH=/usr/local/nvidia/bin:/usr/local/cuda/bin:/usr/local/sbin:/usr/local/bin:/usr/sbin:/usr/bin:/sbin:/bin', 'CUDA_VERSION=8.0.61', 'CUDA_PKG_VERSION=8-0=8.0.61-1', 'LD_LIBRARY_PATH=/usr/local/cuda/extras/CUPTI/lib64:/usr/local/nvidia/lib:/usr/local/nvidia/lib64', 'LIBRARY_PATH=/usr/local/cuda/lib64/stubs:', 'CUDNN_VERSION=5.1.10'], 'Cmd': ['/run_jupyter.sh'], 'ArgsEscaped': True, 'Image': 'sha256:1f09329e0adfe4afdc3ecc669ac27d4b034a9288690eacd857035af485bb34cd', 'Volumes': None, 'WorkingDir': '/notebooks', 'Entrypoint': None, 'OnBuild': [], 'Labels': {'com.nvidia.build.id': '11398804', 'com.nvidia.build.ref': 'aad8623671f844cc69a09aa38fa8c733a251aa9f', 'com.nvidia.cuda.version': '8.0.61', 'com.nvidia.cudnn.version': '5.1.10', 'com.nvidia.volumes.needed': 'nvidia_driver', 'maintainer': 'NVIDIA CORPORATION <cudatools@nvidia.com>'}}\n",
      "\n",
      "Architecture :\n",
      "\tamd64\n",
      "\n",
      "Os :\n",
      "\tlinux\n",
      "\n",
      "Size :\n",
      "\t2795186192\n",
      "\n",
      "VirtualSize :\n",
      "\t2795186192\n",
      "\n",
      "GraphDriver :\n",
      "\t{'Data': {'DeviceId': '20', 'DeviceName': 'docker-8:3-92276989-30ad2cfe3ba4db5bd0c2dd3e55ca80ceb05f6649f12e2acfd9639964dedb7e21', 'DeviceSize': '10737418240'}, 'Name': 'devicemapper'}\n",
      "\n",
      "RootFS :\n",
      "\t{'Type': 'layers', 'Layers': ['sha256:745f5be9952c1a22dd4225ed6c8d7b760fe0d3583efd52f91992463b53f7aea3', 'sha256:85782553e37a2998422ecb14fb34ac3fda94dbc90c6630d721a3bcc770939946', 'sha256:29660d0e5bb2bae1d415f5638fa6011ab4063d1c0895e889d51ad365186d1995', 'sha256:440e02c3dcde277c7426c07c6e240a40b1e53da4a8a0cc22a8cecd4e6f419a98', 'sha256:56827159aa8b327a1b15c2102040ee87f3ca0bf8285aab00a1286e8af79a4beb', 'sha256:6b946d10e2cf69c8881fef74beba55e0b7d9873f1df31ca860546628fbeab989', 'sha256:558f5c3adfd52e38bc5308cad073c237c58a3cc0db1654505cceb168f85be61c', 'sha256:d02e6aa21cd0257c7920fb7787d4af4b441e85e2d239f6e1f731f353a3b22c55', 'sha256:2194e56d0c42725ab7f88b9860694c8ea82528cd63f6b6e44b1562a45eefa1f4', 'sha256:e5e0a7c24be334ade874dde8061feb32ab2ba2c19d6500e4b339e075c8f66f0d', 'sha256:162a6835f9a78251869343717ffb577f32c79d3634ac2985dd0e774ae6873162', 'sha256:8e1a2f846cf0c6dd305a5d4ceeae1b4d1e5518ef43d2fbb7da47c2d824ad59ad', 'sha256:2e6ba29cfdaea2b9fd40ea0737c1008eb6422f2f1558adfcc391b0e3181ac45d', 'sha256:c1f506368df7bb9e3a345598ea8c24f03c3b519f93a0e6e5893015d40dc72cd7', 'sha256:31cc04607e1a731a1dad3de39e759c82fec00d8efdb4dda167abc8e71f720ef7', 'sha256:c48f77b2add5eaf96e69496cde9eb92ad62e950f6054ce4ed85fd18eb9e5616e', 'sha256:b0326d7e382098c7632cc0e25ef4216571cad39ce59392557b15d482178d6d44', 'sha256:af4f7e7d4ae87d90425404aff736a1922e6410fa8393bff112ca9ff557c88332', 'sha256:1df41e082cb22b64f048262f26a7cf9bd216d5bdfb29da190435e61714b9ad17']}\n"
     ]
    }
   ],
   "source": [
    "for i in tf_image.attrs:\n",
    "    print(\"\\n{} :\\n\\t{}\".format(i, tf_image.attrs[i]))"
   ]
  },
  {
   "cell_type": "code",
   "execution_count": 27,
   "metadata": {
    "collapsed": false,
    "scrolled": true
   },
   "outputs": [
    {
     "name": "stdout",
     "output_type": "stream",
     "text": [
      "/pub/docker/images/tensorflow-tensorflow-latest-gpu.tar\n"
     ]
    }
   ],
   "source": [
    "backup_images = \"/pub/docker/images\"\n",
    "filename = test_image.replace(':', '-')\n",
    "filename = filename.replace('/', '-')\n",
    "filename = os.path.join(backup_images, filename + '.tar.gz')\n",
    "print(filename)"
   ]
  },
  {
   "cell_type": "code",
   "execution_count": 48,
   "metadata": {
    "collapsed": true
   },
   "outputs": [],
   "source": [
    "!docker save $test_image | gzip > $filename"
   ]
  },
  {
   "cell_type": "code",
   "execution_count": 51,
   "metadata": {
    "collapsed": false
   },
   "outputs": [
    {
     "name": "stdout",
     "output_type": "stream",
     "text": [
      "tensorflow-tensorflow-latest-gpu.tar\n"
     ]
    }
   ],
   "source": [
    "if os.path.isdir(backup_images):\n",
    "    for i in os.listdir(backup_images):\n",
    "        print(i)"
   ]
  },
  {
   "cell_type": "code",
   "execution_count": null,
   "metadata": {
    "collapsed": true
   },
   "outputs": [],
   "source": [
    ""
   ]
  }
 ],
 "metadata": {
  "kernelspec": {
   "display_name": "Python 3",
   "language": "python",
   "name": "python3"
  },
  "language_info": {
   "codemirror_mode": {
    "name": "ipython",
    "version": 3.0
   },
   "file_extension": ".py",
   "mimetype": "text/x-python",
   "name": "python",
   "nbconvert_exporter": "python",
   "pygments_lexer": "ipython3",
   "version": "3.6.0"
  }
 },
 "nbformat": 4,
 "nbformat_minor": 0
}